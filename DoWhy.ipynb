{
 "cells": [
  {
   "cell_type": "code",
   "execution_count": 1,
   "metadata": {},
   "outputs": [],
   "source": [
    "from dowhy import CausalModel\n",
    "import dowhy.datasets\n",
    "\n",
    "# Load some sample data\n",
    "data = dowhy.datasets.linear_dataset(\n",
    "    beta=10,\n",
    "    num_common_causes=5,\n",
    "    num_instruments=2,\n",
    "    num_samples=10000,\n",
    "    treatment_is_binary=True)"
   ]
  },
  {
   "cell_type": "code",
   "execution_count": 2,
   "metadata": {},
   "outputs": [
    {
     "data": {
      "text/plain": [
       "{'df':        Z0        Z1        W0        W1        W2        W3        W4     v0  \\\n",
       " 0     1.0  0.693347  0.549030 -1.107448  0.925665  0.571583 -0.268783   True   \n",
       " 1     1.0  0.232249 -0.498536 -2.587549 -1.080632  1.835732 -0.453393  False   \n",
       " 2     1.0  0.671370  0.664171  1.184946 -0.693483  1.024568 -1.451555   True   \n",
       " 3     1.0  0.416781  0.891139 -0.176185  1.429914 -0.418692 -0.915626   True   \n",
       " 4     1.0  0.520692  1.539230 -1.162792  0.106675  0.377945 -0.398152   True   \n",
       " ...   ...       ...       ...       ...       ...       ...       ...    ...   \n",
       " 9995  0.0  0.576922  1.595523 -0.222567 -0.072101  1.236824 -0.637650   True   \n",
       " 9996  1.0  0.685849  0.424382  0.307969  0.840527  0.407455 -1.157871   True   \n",
       " 9997  1.0  0.817070  1.190590 -1.254480  1.428582  0.081281 -0.276677   True   \n",
       " 9998  1.0  0.619202  1.712943 -0.143830  1.151240  0.412404 -1.658488   True   \n",
       " 9999  1.0  0.130163  1.156368 -1.288323 -1.045404  0.778276 -0.143609   True   \n",
       " \n",
       "               y  \n",
       " 0     17.591376  \n",
       " 1      0.483365  \n",
       " 2     11.096885  \n",
       " 3     16.142712  \n",
       " 4     14.554436  \n",
       " ...         ...  \n",
       " 9995  17.377929  \n",
       " 9996  15.674780  \n",
       " 9997  19.217997  \n",
       " 9998  19.208112  \n",
       " 9999  10.046458  \n",
       " \n",
       " [10000 rows x 9 columns],\n",
       " 'treatment_name': ['v0'],\n",
       " 'outcome_name': 'y',\n",
       " 'common_causes_names': ['W0', 'W1', 'W2', 'W3', 'W4'],\n",
       " 'instrument_names': ['Z0', 'Z1'],\n",
       " 'effect_modifier_names': [],\n",
       " 'frontdoor_variables_names': [],\n",
       " 'dot_graph': 'digraph { U[label=\"Unobserved Confounders\"]; U->y;v0->y;U->v0;W0-> v0; W1-> v0; W2-> v0; W3-> v0; W4-> v0;Z0-> v0; Z1-> v0;W0-> y; W1-> y; W2-> y; W3-> y; W4-> y;}',\n",
       " 'gml_graph': 'graph[directed 1node[ id \"y\" label \"y\"]node[ id \"Unobserved Confounders\" label \"Unobserved Confounders\"]edge[source \"Unobserved Confounders\" target \"y\"]node[ id \"W0\" label \"W0\"] node[ id \"W1\" label \"W1\"] node[ id \"W2\" label \"W2\"] node[ id \"W3\" label \"W3\"] node[ id \"W4\" label \"W4\"]node[ id \"Z0\" label \"Z0\"] node[ id \"Z1\" label \"Z1\"]node[ id \"v0\" label \"v0\"]edge[source \"Unobserved Confounders\" target \"v0\"]edge[source \"v0\" target \"y\"]edge[ source \"W0\" target \"v0\"] edge[ source \"W1\" target \"v0\"] edge[ source \"W2\" target \"v0\"] edge[ source \"W3\" target \"v0\"] edge[ source \"W4\" target \"v0\"]edge[ source \"Z0\" target \"v0\"] edge[ source \"Z1\" target \"v0\"]edge[ source \"W0\" target \"y\"] edge[ source \"W1\" target \"y\"] edge[ source \"W2\" target \"y\"] edge[ source \"W3\" target \"y\"] edge[ source \"W4\" target \"y\"]]',\n",
       " 'ate': 10.00008140619429}"
      ]
     },
     "execution_count": 2,
     "metadata": {},
     "output_type": "execute_result"
    }
   ],
   "source": [
    "data"
   ]
  },
  {
   "cell_type": "code",
   "execution_count": null,
   "metadata": {},
   "outputs": [],
   "source": []
  }
 ],
 "metadata": {
  "kernelspec": {
   "display_name": "Python 3 (ipykernel)",
   "language": "python",
   "name": "python3"
  },
  "language_info": {
   "codemirror_mode": {
    "name": "ipython",
    "version": 3
   },
   "file_extension": ".py",
   "mimetype": "text/x-python",
   "name": "python",
   "nbconvert_exporter": "python",
   "pygments_lexer": "ipython3",
   "version": "3.7.11"
  }
 },
 "nbformat": 4,
 "nbformat_minor": 2
}
